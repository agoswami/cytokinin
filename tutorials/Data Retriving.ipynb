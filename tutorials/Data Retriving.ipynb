{
 "cells": [
  {
   "cell_type": "markdown",
   "metadata": {},
   "source": [
    "# Data retrieving"
   ]
  },
  {
   "cell_type": "code",
   "execution_count": 1,
   "metadata": {},
   "outputs": [
    {
     "name": "stdout",
     "output_type": "stream",
     "text": [
      "/home/gian/Scrivania/github/cytokinin/tutorials\r\n"
     ]
    }
   ],
   "source": [
    "!pwd"
   ]
  },
  {
   "cell_type": "code",
   "execution_count": 2,
   "metadata": {},
   "outputs": [
    {
     "name": "stdout",
     "output_type": "stream",
     "text": [
      "Uninstalling cytokinin-0.0.1:\r\n",
      "  Successfully uninstalled cytokinin-0.0.1\r\n"
     ]
    }
   ],
   "source": [
    "!pip uninstall cytokinin -y"
   ]
  },
  {
   "cell_type": "code",
   "execution_count": 3,
   "metadata": {},
   "outputs": [
    {
     "name": "stdout",
     "output_type": "stream",
     "text": [
      "Processing /home/gian/Scrivania/github/cytokinin/cytokinin\n",
      "Requirement already satisfied: numpy in /home/gian/anaconda3/lib/python3.7/site-packages (from cytokinin==0.0.1) (1.16.2)\n",
      "Requirement already satisfied: matplotlib in /home/gian/anaconda3/lib/python3.7/site-packages (from cytokinin==0.0.1) (3.0.3)\n",
      "Requirement already satisfied: pandas>=0.25.3 in /home/gian/anaconda3/lib/python3.7/site-packages (from cytokinin==0.0.1) (0.25.3)\n",
      "Requirement already satisfied: opencv-python>=4.1.0 in /home/gian/anaconda3/lib/python3.7/site-packages (from cytokinin==0.0.1) (4.1.2.30)\n",
      "Requirement already satisfied: cycler>=0.10 in /home/gian/anaconda3/lib/python3.7/site-packages (from matplotlib->cytokinin==0.0.1) (0.10.0)\n",
      "Requirement already satisfied: kiwisolver>=1.0.1 in /home/gian/anaconda3/lib/python3.7/site-packages (from matplotlib->cytokinin==0.0.1) (1.0.1)\n",
      "Requirement already satisfied: pyparsing!=2.0.4,!=2.1.2,!=2.1.6,>=2.0.1 in /home/gian/anaconda3/lib/python3.7/site-packages (from matplotlib->cytokinin==0.0.1) (2.3.1)\n",
      "Requirement already satisfied: python-dateutil>=2.1 in /home/gian/anaconda3/lib/python3.7/site-packages (from matplotlib->cytokinin==0.0.1) (2.8.0)\n",
      "Requirement already satisfied: pytz>=2017.2 in /home/gian/anaconda3/lib/python3.7/site-packages (from pandas>=0.25.3->cytokinin==0.0.1) (2018.9)\n",
      "Requirement already satisfied: six in /home/gian/anaconda3/lib/python3.7/site-packages (from cycler>=0.10->matplotlib->cytokinin==0.0.1) (1.12.0)\n",
      "Requirement already satisfied: setuptools in /home/gian/anaconda3/lib/python3.7/site-packages (from kiwisolver>=1.0.1->matplotlib->cytokinin==0.0.1) (40.8.0)\n",
      "Building wheels for collected packages: cytokinin\n",
      "  Building wheel for cytokinin (setup.py) ... \u001b[?25ldone\n",
      "\u001b[?25h  Stored in directory: /tmp/pip-ephem-wheel-cache-07h4t7ht/wheels/20/e3/ab/fd92d6e1db4dfa1a64713490d13b91970b9fc4d91d15b9af00\n",
      "Successfully built cytokinin\n",
      "Installing collected packages: cytokinin\n",
      "Successfully installed cytokinin-0.0.1\n"
     ]
    }
   ],
   "source": [
    "!pip install ./../cytokinin"
   ]
  },
  {
   "cell_type": "code",
   "execution_count": 4,
   "metadata": {},
   "outputs": [],
   "source": [
    "import os\n",
    "import json\n",
    "import numpy as np\n",
    "import pandas as pd\n",
    "from pathlib import Path"
   ]
  },
  {
   "cell_type": "code",
   "execution_count": 5,
   "metadata": {},
   "outputs": [],
   "source": [
    "import cytokinin as ck"
   ]
  },
  {
   "cell_type": "code",
   "execution_count": 6,
   "metadata": {},
   "outputs": [],
   "source": [
    "root = Path('./../') # quite the same as str"
   ]
  },
  {
   "cell_type": "code",
   "execution_count": 7,
   "metadata": {},
   "outputs": [
    {
     "data": {
      "text/plain": [
       "['dog', 'stone']"
      ]
     },
     "execution_count": 7,
     "metadata": {},
     "output_type": "execute_result"
    }
   ],
   "source": [
    "# Set an example dir for images files\n",
    "IMGS = root.joinpath('./cytokinin/cytokinin/tests/mocks/imgs/')\n",
    "os.listdir(str(IMGS))"
   ]
  },
  {
   "cell_type": "markdown",
   "metadata": {},
   "source": [
    "## Load from list"
   ]
  },
  {
   "cell_type": "code",
   "execution_count": 8,
   "metadata": {},
   "outputs": [
    {
     "data": {
      "text/plain": [
       "['../cytokinin/cytokinin/tests/mocks/imgs/dog/dog_35.jpeg',\n",
       " '../cytokinin/cytokinin/tests/mocks/imgs/dog/dog_19.jpeg',\n",
       " '../cytokinin/cytokinin/tests/mocks/imgs/dog/dog_31.jpeg',\n",
       " '../cytokinin/cytokinin/tests/mocks/imgs/dog/dog_8.jpg',\n",
       " '../cytokinin/cytokinin/tests/mocks/imgs/dog/dog_13.jpg']"
      ]
     },
     "execution_count": 8,
     "metadata": {},
     "output_type": "execute_result"
    }
   ],
   "source": [
    "flist = []\n",
    "for root, dirs, files in os.walk(IMGS, topdown=False):\n",
    "    for f in files:\n",
    "        flist.append(os.path.join(root, f))\n",
    "flist[:5]"
   ]
  },
  {
   "cell_type": "code",
   "execution_count": 9,
   "metadata": {},
   "outputs": [
    {
     "name": "stderr",
     "output_type": "stream",
     "text": [
      "INFO:root:CYTOKININ LOADED\n"
     ]
    },
    {
     "data": {
      "text/plain": [
       "<cytokinin.data.Data at 0x7f6f409717f0>"
      ]
     },
     "execution_count": 9,
     "metadata": {},
     "output_type": "execute_result"
    }
   ],
   "source": [
    "from cytokinin.data import take_data\n",
    "imgs = take_data('images')\n",
    "imgs"
   ]
  },
  {
   "cell_type": "code",
   "execution_count": 10,
   "metadata": {},
   "outputs": [
    {
     "data": {
      "text/plain": [
       "0    ../cytokinin/cytokinin/tests/mocks/imgs/dog/do...\n",
       "1    ../cytokinin/cytokinin/tests/mocks/imgs/stone/...\n",
       "2    ../cytokinin/cytokinin/tests/mocks/imgs/dog/do...\n",
       "3    ../cytokinin/cytokinin/tests/mocks/imgs/dog/do...\n",
       "4    ../cytokinin/cytokinin/tests/mocks/imgs/dog/do...\n",
       "Name: data15783159144830232, dtype: object"
      ]
     },
     "execution_count": 10,
     "metadata": {},
     "output_type": "execute_result"
    }
   ],
   "source": [
    "imgs.store_filesnames_from_list(flist) # load\n",
    "imgs.filesnames.head() #show"
   ]
  },
  {
   "cell_type": "markdown",
   "metadata": {},
   "source": [
    "## Load from DataFrame"
   ]
  },
  {
   "cell_type": "code",
   "execution_count": 11,
   "metadata": {},
   "outputs": [
    {
     "data": {
      "text/html": [
       "<div>\n",
       "<style scoped>\n",
       "    .dataframe tbody tr th:only-of-type {\n",
       "        vertical-align: middle;\n",
       "    }\n",
       "\n",
       "    .dataframe tbody tr th {\n",
       "        vertical-align: top;\n",
       "    }\n",
       "\n",
       "    .dataframe thead th {\n",
       "        text-align: right;\n",
       "    }\n",
       "</style>\n",
       "<table border=\"1\" class=\"dataframe\">\n",
       "  <thead>\n",
       "    <tr style=\"text-align: right;\">\n",
       "      <th></th>\n",
       "      <th>files</th>\n",
       "    </tr>\n",
       "  </thead>\n",
       "  <tbody>\n",
       "    <tr>\n",
       "      <th>0</th>\n",
       "      <td>../cytokinin/cytokinin/tests/mocks/imgs/dog/do...</td>\n",
       "    </tr>\n",
       "    <tr>\n",
       "      <th>1</th>\n",
       "      <td>../cytokinin/cytokinin/tests/mocks/imgs/dog/do...</td>\n",
       "    </tr>\n",
       "    <tr>\n",
       "      <th>2</th>\n",
       "      <td>../cytokinin/cytokinin/tests/mocks/imgs/dog/do...</td>\n",
       "    </tr>\n",
       "    <tr>\n",
       "      <th>3</th>\n",
       "      <td>../cytokinin/cytokinin/tests/mocks/imgs/dog/do...</td>\n",
       "    </tr>\n",
       "    <tr>\n",
       "      <th>4</th>\n",
       "      <td>../cytokinin/cytokinin/tests/mocks/imgs/dog/do...</td>\n",
       "    </tr>\n",
       "  </tbody>\n",
       "</table>\n",
       "</div>"
      ],
      "text/plain": [
       "                                               files\n",
       "0  ../cytokinin/cytokinin/tests/mocks/imgs/dog/do...\n",
       "1  ../cytokinin/cytokinin/tests/mocks/imgs/dog/do...\n",
       "2  ../cytokinin/cytokinin/tests/mocks/imgs/dog/do...\n",
       "3  ../cytokinin/cytokinin/tests/mocks/imgs/dog/do...\n",
       "4  ../cytokinin/cytokinin/tests/mocks/imgs/dog/do..."
      ]
     },
     "execution_count": 11,
     "metadata": {},
     "output_type": "execute_result"
    }
   ],
   "source": [
    "df = pd.DataFrame({'files': flist})\n",
    "df.head()"
   ]
  },
  {
   "cell_type": "code",
   "execution_count": 12,
   "metadata": {},
   "outputs": [
    {
     "data": {
      "text/plain": [
       "0    ../cytokinin/cytokinin/tests/mocks/imgs/dog/do...\n",
       "1    ../cytokinin/cytokinin/tests/mocks/imgs/stone/...\n",
       "2    ../cytokinin/cytokinin/tests/mocks/imgs/dog/do...\n",
       "3    ../cytokinin/cytokinin/tests/mocks/imgs/dog/do...\n",
       "4    ../cytokinin/cytokinin/tests/mocks/imgs/dog/do...\n",
       "Name: data15783159147528422, dtype: object"
      ]
     },
     "execution_count": 12,
     "metadata": {},
     "output_type": "execute_result"
    }
   ],
   "source": [
    "imgs = take_data('images')\n",
    "imgs.store_filesnames_from_df(df, 'files') #hold uniques\n",
    "imgs.filesnames.head()"
   ]
  },
  {
   "cell_type": "markdown",
   "metadata": {},
   "source": [
    "### Load from folder"
   ]
  },
  {
   "cell_type": "code",
   "execution_count": 13,
   "metadata": {},
   "outputs": [
    {
     "data": {
      "text/plain": [
       "0    ../cytokinin/cytokinin/tests/mocks/imgs/dog/do...\n",
       "1    ../cytokinin/cytokinin/tests/mocks/imgs/dog/do...\n",
       "2    ../cytokinin/cytokinin/tests/mocks/imgs/dog/do...\n",
       "3    ../cytokinin/cytokinin/tests/mocks/imgs/dog/do...\n",
       "4    ../cytokinin/cytokinin/tests/mocks/imgs/dog/do...\n",
       "Name: data15783159148415146, dtype: object"
      ]
     },
     "execution_count": 13,
     "metadata": {},
     "output_type": "execute_result"
    }
   ],
   "source": [
    "dogs_folder = IMGS.joinpath('dog')\n",
    "dogs = take_data('images').store_filesnames_from_folder(dogs_folder)\n",
    "dogs.filesnames.head()"
   ]
  },
  {
   "cell_type": "markdown",
   "metadata": {},
   "source": [
    "### Load from folder interactively"
   ]
  },
  {
   "cell_type": "code",
   "execution_count": 14,
   "metadata": {},
   "outputs": [
    {
     "data": {
      "text/plain": [
       "['Untitled.ipynb', '.ipynb_checkpoints', 'Data.ipynb', 'Loading Data.ipynb']"
      ]
     },
     "execution_count": 14,
     "metadata": {},
     "output_type": "execute_result"
    }
   ],
   "source": [
    "p = Path('/home/gian/Scrivania/github/cytokinin/tutorials')\n",
    "os.listdir(p)"
   ]
  },
  {
   "cell_type": "code",
   "execution_count": 15,
   "metadata": {},
   "outputs": [
    {
     "name": "stderr",
     "output_type": "stream",
     "text": [
      "DEBUG:matplotlib.pyplot:Loaded backend module://ipykernel.pylab.backend_inline version unknown.\n",
      "DEBUG:matplotlib.pyplot:Loaded backend module://ipykernel.pylab.backend_inline version unknown.\n"
     ]
    }
   ],
   "source": [
    "dogs = take_data('images')\n",
    "try:\n",
    "    dogs.store_filesnames_from_folder(gui=True, include_subdirs=False)\n",
    "except Exception as e:\n",
    "    print(e)\n",
    "    print(f'filesnames:\\n{dogs.filesnames}')"
   ]
  },
  {
   "cell_type": "code",
   "execution_count": 16,
   "metadata": {},
   "outputs": [
    {
     "data": {
      "text/plain": [
       "0    /home/gian/Scrivania/github/cytokinin/cytokini...\n",
       "1    /home/gian/Scrivania/github/cytokinin/cytokini...\n",
       "2    /home/gian/Scrivania/github/cytokinin/cytokini...\n",
       "3    /home/gian/Scrivania/github/cytokinin/cytokini...\n",
       "4    /home/gian/Scrivania/github/cytokinin/cytokini...\n",
       "Name: data15783159170089812, dtype: object"
      ]
     },
     "execution_count": 16,
     "metadata": {},
     "output_type": "execute_result"
    }
   ],
   "source": [
    "dogs = take_data('images')\n",
    "dogs.store_filesnames_from_folder(gui=True, include_subdirs=True)\n",
    "dogs.filesnames.head()"
   ]
  },
  {
   "cell_type": "markdown",
   "metadata": {},
   "source": [
    "## Adding data"
   ]
  },
  {
   "cell_type": "markdown",
   "metadata": {},
   "source": [
    "### add from Data"
   ]
  },
  {
   "cell_type": "code",
   "execution_count": 17,
   "metadata": {},
   "outputs": [],
   "source": [
    "dogs_folder = IMGS.joinpath('dog')\n",
    "dogs = take_data('images').store_filesnames_from_folder(dogs_folder)\n",
    "stones_folder = IMGS.joinpath('stone')\n",
    "stones = take_data('images').store_filesnames_from_folder(stones_folder)"
   ]
  },
  {
   "cell_type": "code",
   "execution_count": 18,
   "metadata": {},
   "outputs": [
    {
     "data": {
      "text/plain": [
       "'Object <class \\'cytokinin.data.Data\\'>, of data type \"images\"\\n,             35 file paths stored\\n             0 labels stored.'"
      ]
     },
     "execution_count": 18,
     "metadata": {},
     "output_type": "execute_result"
    }
   ],
   "source": [
    "dogs_and_stones = dogs.copy()\n",
    "str(dogs_and_stones)"
   ]
  },
  {
   "cell_type": "code",
   "execution_count": 19,
   "metadata": {},
   "outputs": [
    {
     "data": {
      "text/plain": [
       "'Object <class \\'cytokinin.data.Data\\'>, of data type \"images\"\\n,             75 file paths stored\\n             0 labels stored.'"
      ]
     },
     "execution_count": 19,
     "metadata": {},
     "output_type": "execute_result"
    }
   ],
   "source": [
    "dogs_and_stones.add_from_data(stones)\n",
    "str(dogs_and_stones)"
   ]
  },
  {
   "cell_type": "markdown",
   "metadata": {},
   "source": [
    "## Label"
   ]
  },
  {
   "cell_type": "markdown",
   "metadata": {},
   "source": [
    "### from filesnames folder"
   ]
  },
  {
   "cell_type": "code",
   "execution_count": 20,
   "metadata": {},
   "outputs": [
    {
     "name": "stdout",
     "output_type": "stream",
     "text": [
      "['dog' 'stone']\n"
     ]
    },
    {
     "data": {
      "text/plain": [
       "stone    40\n",
       "dog      35\n",
       "Name: data15783159296152167, dtype: int64"
      ]
     },
     "execution_count": 20,
     "metadata": {},
     "output_type": "execute_result"
    }
   ],
   "source": [
    "dogs_and_stones.label_from_folder()\n",
    "print(dogs_and_stones.labels.unique())\n",
    "dogs_and_stones.labels.value_counts()"
   ]
  },
  {
   "cell_type": "markdown",
   "metadata": {},
   "source": [
    "### from csv file"
   ]
  },
  {
   "cell_type": "code",
   "execution_count": 21,
   "metadata": {},
   "outputs": [
    {
     "data": {
      "text/plain": [
       "0     ../cytokinin/cytokinin/tests/mocks/imgs/dog/do...\n",
       "1     ../cytokinin/cytokinin/tests/mocks/imgs/dog/do...\n",
       "2     ../cytokinin/cytokinin/tests/mocks/imgs/dog/do...\n",
       "3     ../cytokinin/cytokinin/tests/mocks/imgs/dog/do...\n",
       "4     ../cytokinin/cytokinin/tests/mocks/imgs/dog/do...\n",
       "                            ...                        \n",
       "70    ../cytokinin/cytokinin/tests/mocks/imgs/stone/...\n",
       "71    ../cytokinin/cytokinin/tests/mocks/imgs/stone/...\n",
       "72    ../cytokinin/cytokinin/tests/mocks/imgs/stone/...\n",
       "73    ../cytokinin/cytokinin/tests/mocks/imgs/stone/...\n",
       "74    ../cytokinin/cytokinin/tests/mocks/imgs/stone/...\n",
       "Name: files, Length: 75, dtype: object"
      ]
     },
     "execution_count": 21,
     "metadata": {},
     "output_type": "execute_result"
    }
   ],
   "source": [
    "df.iloc[:,0]"
   ]
  },
  {
   "cell_type": "code",
   "execution_count": 22,
   "metadata": {},
   "outputs": [
    {
     "data": {
      "text/plain": [
       "True"
      ]
     },
     "execution_count": 22,
     "metadata": {},
     "output_type": "execute_result"
    }
   ],
   "source": [
    "str(type(df)) == \"<class 'pandas.core.frame.DataFrame'>\""
   ]
  },
  {
   "cell_type": "markdown",
   "metadata": {},
   "source": [
    "## Print"
   ]
  },
  {
   "cell_type": "code",
   "execution_count": 25,
   "metadata": {},
   "outputs": [
    {
     "name": "stdout",
     "output_type": "stream",
     "text": [
      "Object <class 'cytokinin.data.Data'>, of data type \"images\"\n",
      ",             35 file paths stored\n",
      "             0 labels stored.\n"
     ]
    }
   ],
   "source": [
    "print(dogs)"
   ]
  },
  {
   "cell_type": "markdown",
   "metadata": {},
   "source": [
    "## TO"
   ]
  },
  {
   "cell_type": "markdown",
   "metadata": {},
   "source": [
    "### to Paths list"
   ]
  },
  {
   "cell_type": "code",
   "execution_count": 26,
   "metadata": {},
   "outputs": [
    {
     "name": "stdout",
     "output_type": "stream",
     "text": [
      "shape: (3,)\n"
     ]
    },
    {
     "data": {
      "text/plain": [
       "[PosixPath('../cytokinin/cytokinin/tests/mocks/imgs/dog/dog_19.jpeg'),\n",
       " PosixPath('../cytokinin/cytokinin/tests/mocks/imgs/dog/dog_0.jpg'),\n",
       " PosixPath('../cytokinin/cytokinin/tests/mocks/imgs/dog/dog_9.jpeg')]"
      ]
     },
     "execution_count": 26,
     "metadata": {},
     "output_type": "execute_result"
    }
   ],
   "source": [
    "top_3_as_pathlist = dogs.to('pathlist')[:3]\n",
    "print(f'shape: {np.shape(top_3_as_pathlist)}')\n",
    "top_3_as_pathlist"
   ]
  },
  {
   "cell_type": "markdown",
   "metadata": {},
   "source": [
    "### to list"
   ]
  },
  {
   "cell_type": "code",
   "execution_count": 27,
   "metadata": {},
   "outputs": [
    {
     "name": "stdout",
     "output_type": "stream",
     "text": [
      "shape: (3,)\n"
     ]
    },
    {
     "data": {
      "text/plain": [
       "['../cytokinin/cytokinin/tests/mocks/imgs/dog/dog_19.jpeg',\n",
       " '../cytokinin/cytokinin/tests/mocks/imgs/dog/dog_0.jpg',\n",
       " '../cytokinin/cytokinin/tests/mocks/imgs/dog/dog_9.jpeg']"
      ]
     },
     "execution_count": 27,
     "metadata": {},
     "output_type": "execute_result"
    }
   ],
   "source": [
    "top_3_as_list = dogs.to('list')[:3]\n",
    "print(f'shape: {np.shape(top_3_as_list)}')\n",
    "top_3_as_list"
   ]
  },
  {
   "cell_type": "markdown",
   "metadata": {},
   "source": [
    "### to Array"
   ]
  },
  {
   "cell_type": "code",
   "execution_count": 28,
   "metadata": {},
   "outputs": [
    {
     "name": "stdout",
     "output_type": "stream",
     "text": [
      "shape: (3,)\n"
     ]
    },
    {
     "data": {
      "text/plain": [
       "[array([[[255, 255, 255],\n",
       "         [255, 255, 255],\n",
       "         [255, 255, 255],\n",
       "         ...,\n",
       "         [255, 255, 255],\n",
       "         [255, 255, 255],\n",
       "         [255, 255, 255]],\n",
       " \n",
       "        [[255, 255, 255],\n",
       "         [255, 255, 255],\n",
       "         [255, 255, 255],\n",
       "         ...,\n",
       "         [255, 255, 255],\n",
       "         [255, 255, 255],\n",
       "         [255, 255, 255]],\n",
       " \n",
       "        [[255, 255, 255],\n",
       "         [255, 255, 255],\n",
       "         [255, 255, 255],\n",
       "         ...,\n",
       "         [255, 255, 255],\n",
       "         [255, 255, 255],\n",
       "         [255, 255, 255]],\n",
       " \n",
       "        ...,\n",
       " \n",
       "        [[255, 255, 255],\n",
       "         [255, 255, 255],\n",
       "         [255, 255, 255],\n",
       "         ...,\n",
       "         [255, 255, 255],\n",
       "         [255, 255, 255],\n",
       "         [255, 255, 255]],\n",
       " \n",
       "        [[255, 255, 255],\n",
       "         [255, 255, 255],\n",
       "         [255, 255, 255],\n",
       "         ...,\n",
       "         [255, 255, 255],\n",
       "         [255, 255, 255],\n",
       "         [255, 255, 255]],\n",
       " \n",
       "        [[255, 255, 255],\n",
       "         [255, 255, 255],\n",
       "         [255, 255, 255],\n",
       "         ...,\n",
       "         [255, 255, 255],\n",
       "         [255, 255, 255],\n",
       "         [255, 255, 255]]], dtype=uint8), array([[[161, 174, 190],\n",
       "         [162, 175, 191],\n",
       "         [163, 176, 192],\n",
       "         ...,\n",
       "         [203, 204, 208],\n",
       "         [203, 204, 208],\n",
       "         [203, 204, 208]],\n",
       " \n",
       "        [[161, 174, 190],\n",
       "         [162, 175, 191],\n",
       "         [163, 176, 192],\n",
       "         ...,\n",
       "         [203, 204, 208],\n",
       "         [203, 204, 208],\n",
       "         [203, 204, 208]],\n",
       " \n",
       "        [[162, 175, 191],\n",
       "         [162, 175, 191],\n",
       "         [163, 176, 192],\n",
       "         ...,\n",
       "         [203, 204, 208],\n",
       "         [203, 204, 208],\n",
       "         [203, 204, 208]],\n",
       " \n",
       "        ...,\n",
       " \n",
       "        [[153, 167, 185],\n",
       "         [155, 169, 187],\n",
       "         [156, 170, 188],\n",
       "         ...,\n",
       "         [160, 177, 204],\n",
       "         [160, 177, 204],\n",
       "         [160, 177, 204]],\n",
       " \n",
       "        [[153, 167, 185],\n",
       "         [154, 168, 186],\n",
       "         [156, 170, 188],\n",
       "         ...,\n",
       "         [160, 177, 204],\n",
       "         [160, 177, 204],\n",
       "         [160, 177, 204]],\n",
       " \n",
       "        [[152, 166, 184],\n",
       "         [154, 168, 186],\n",
       "         [155, 169, 187],\n",
       "         ...,\n",
       "         [160, 177, 204],\n",
       "         [160, 177, 204],\n",
       "         [160, 177, 204]]], dtype=uint8), array([[[ 56,  56,  86],\n",
       "         [ 56,  56,  86],\n",
       "         [ 57,  57,  87],\n",
       "         ...,\n",
       "         [ 61,  73,  79],\n",
       "         [ 63,  75,  81],\n",
       "         [ 61,  73,  79]],\n",
       " \n",
       "        [[ 58,  58,  88],\n",
       "         [ 58,  58,  88],\n",
       "         [ 58,  58,  88],\n",
       "         ...,\n",
       "         [ 60,  70,  77],\n",
       "         [ 62,  74,  80],\n",
       "         [ 63,  75,  81]],\n",
       " \n",
       "        [[ 58,  58,  88],\n",
       "         [ 57,  57,  87],\n",
       "         [ 57,  57,  87],\n",
       "         ...,\n",
       "         [ 61,  71,  78],\n",
       "         [ 63,  75,  81],\n",
       "         [ 63,  75,  81]],\n",
       " \n",
       "        ...,\n",
       " \n",
       "        [[ 46,  91,  64],\n",
       "         [ 41,  86,  59],\n",
       "         [ 50,  89,  68],\n",
       "         ...,\n",
       "         [ 57, 116,  65],\n",
       "         [ 38, 119,  64],\n",
       "         [ 46, 124,  70]],\n",
       " \n",
       "        [[ 47,  94,  62],\n",
       "         [ 41,  91,  57],\n",
       "         [ 48,  89,  61],\n",
       "         ...,\n",
       "         [ 58, 120,  68],\n",
       "         [ 39, 123,  65],\n",
       "         [ 45, 126,  69]],\n",
       " \n",
       "        [[ 46,  92,  63],\n",
       "         [ 41,  90,  58],\n",
       "         [ 46,  87,  60],\n",
       "         ...,\n",
       "         [ 62, 124,  70],\n",
       "         [ 44, 125,  68],\n",
       "         [ 50, 129,  72]]], dtype=uint8)]"
      ]
     },
     "execution_count": 28,
     "metadata": {},
     "output_type": "execute_result"
    }
   ],
   "source": [
    "top_3_as_array = dogs.to('arrays')[:3] # array_mode=['rgb', 'gray', 'grey']\n",
    "print(f'shape: {np.shape(top_3_as_array)}')\n",
    "top_3_as_array"
   ]
  },
  {
   "cell_type": "markdown",
   "metadata": {},
   "source": [
    "### to Pandas.DataFrame"
   ]
  },
  {
   "cell_type": "code",
   "execution_count": 29,
   "metadata": {},
   "outputs": [
    {
     "name": "stdout",
     "output_type": "stream",
     "text": [
      "shape: (3, 1)\n"
     ]
    },
    {
     "data": {
      "text/html": [
       "<div>\n",
       "<style scoped>\n",
       "    .dataframe tbody tr th:only-of-type {\n",
       "        vertical-align: middle;\n",
       "    }\n",
       "\n",
       "    .dataframe tbody tr th {\n",
       "        vertical-align: top;\n",
       "    }\n",
       "\n",
       "    .dataframe thead th {\n",
       "        text-align: right;\n",
       "    }\n",
       "</style>\n",
       "<table border=\"1\" class=\"dataframe\">\n",
       "  <thead>\n",
       "    <tr style=\"text-align: right;\">\n",
       "      <th></th>\n",
       "      <th>data15783159296152167</th>\n",
       "    </tr>\n",
       "  </thead>\n",
       "  <tbody>\n",
       "    <tr>\n",
       "      <th>0</th>\n",
       "      <td>../cytokinin/cytokinin/tests/mocks/imgs/dog/do...</td>\n",
       "    </tr>\n",
       "    <tr>\n",
       "      <th>1</th>\n",
       "      <td>../cytokinin/cytokinin/tests/mocks/imgs/dog/do...</td>\n",
       "    </tr>\n",
       "    <tr>\n",
       "      <th>2</th>\n",
       "      <td>../cytokinin/cytokinin/tests/mocks/imgs/dog/do...</td>\n",
       "    </tr>\n",
       "  </tbody>\n",
       "</table>\n",
       "</div>"
      ],
      "text/plain": [
       "                               data15783159296152167\n",
       "0  ../cytokinin/cytokinin/tests/mocks/imgs/dog/do...\n",
       "1  ../cytokinin/cytokinin/tests/mocks/imgs/dog/do...\n",
       "2  ../cytokinin/cytokinin/tests/mocks/imgs/dog/do..."
      ]
     },
     "execution_count": 29,
     "metadata": {},
     "output_type": "execute_result"
    }
   ],
   "source": [
    "top_3_as_df = dogs.to('dataframe')[:3]\n",
    "print(f'shape: {np.shape(top_3_as_df)}')\n",
    "top_3_as_df"
   ]
  },
  {
   "cell_type": "markdown",
   "metadata": {},
   "source": [
    "### to Pandas.Series"
   ]
  },
  {
   "cell_type": "code",
   "execution_count": 30,
   "metadata": {},
   "outputs": [
    {
     "name": "stdout",
     "output_type": "stream",
     "text": [
      "shape: (3,)\n"
     ]
    },
    {
     "data": {
      "text/plain": [
       "0    ../cytokinin/cytokinin/tests/mocks/imgs/dog/do...\n",
       "1    ../cytokinin/cytokinin/tests/mocks/imgs/dog/do...\n",
       "2    ../cytokinin/cytokinin/tests/mocks/imgs/dog/do...\n",
       "Name: data15783159296152167, dtype: object"
      ]
     },
     "execution_count": 30,
     "metadata": {},
     "output_type": "execute_result"
    }
   ],
   "source": [
    "top_3_as_series = dogs.to('series')[:3]\n",
    "print(f'shape: {np.shape(top_3_as_series)}')\n",
    "top_3_as_series"
   ]
  },
  {
   "cell_type": "code",
   "execution_count": null,
   "metadata": {},
   "outputs": [],
   "source": []
  },
  {
   "cell_type": "code",
   "execution_count": null,
   "metadata": {},
   "outputs": [],
   "source": []
  }
 ],
 "metadata": {
  "kernelspec": {
   "display_name": "Python 3",
   "language": "python",
   "name": "python3"
  },
  "language_info": {
   "codemirror_mode": {
    "name": "ipython",
    "version": 3
   },
   "file_extension": ".py",
   "mimetype": "text/x-python",
   "name": "python",
   "nbconvert_exporter": "python",
   "pygments_lexer": "ipython3",
   "version": "3.7.3"
  }
 },
 "nbformat": 4,
 "nbformat_minor": 2
}
