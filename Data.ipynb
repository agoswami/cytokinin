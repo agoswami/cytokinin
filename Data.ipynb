{
 "cells": [
  {
   "cell_type": "code",
   "execution_count": null,
   "metadata": {},
   "outputs": [],
   "source": [
    "import os\n",
    "import json\n",
    "import numpy as np\n",
    "import pandas as pd"
   ]
  },
  {
   "cell_type": "code",
   "execution_count": null,
   "metadata": {},
   "outputs": [],
   "source": [
    "# # API define_data\n",
    "\n",
    "# def problem_type(): # ('classification', 'regression', 'tabular')\n",
    "#     pass\n",
    "\n",
    "# def set_type(): #('train')\n",
    "#     pass\n",
    "\n",
    "# def define_x(): pass\n",
    "# def define_y(): pass\n",
    "# def define_xy(): pass\n",
    "# #what if from dataframe?\n",
    "\n",
    "# def add_continous():\n",
    "#     pass\n",
    "\n",
    "# def add_table():\n",
    "#     pass"
   ]
  },
  {
   "cell_type": "code",
   "execution_count": null,
   "metadata": {},
   "outputs": [],
   "source": [
    "# # API datasets\n",
    "\n",
    "# # Example\n",
    "# imgs = take_data('images').from_folder\n",
    "# cars = create_dataset('images').named('cars').from_folder('./cars/').labeled_as_its_folder()\n",
    "# cars.add_files('images').from_folder('./cars2/')\n",
    "\n",
    "# motos = create_dataset('images').named('motos').from_many_folders(folderlist)\n",
    "\n",
    "\n",
    "\n",
    "# cars = create_dataset('images') # Dataset => df\n",
    "\n",
    "# cars.named(datasetname)\n",
    "\n",
    "# cars.from_folder(foldername)\n",
    "#     .from_filenames(fnames, ignore, extensions)\n",
    "    \n",
    "    \n",
    "# #labels\n",
    "# cars.labeled_as()\n",
    "#     .labeled_as_its_folder()\n",
    "#     .labeled_as_images_names()\n",
    "#     .labeled_as_part_of_images_names()\n",
    "    \n",
    "#     .labeled_from_csv()\n",
    "#     .labeled_from_.........\n",
    "\n",
    "\n",
    "# targetType = ['array_list', 'text_list']\n",
    "\n",
    "# cars.add_target_set(astype=targetType) \n",
    "\n",
    "# cars_labels = cl = dataset('labels')\n",
    "# cl.name_all_as(NAME)\n",
    "\n",
    "\n"
   ]
  },
  {
   "cell_type": "markdown",
   "metadata": {},
   "source": [
    "_______________________"
   ]
  },
  {
   "cell_type": "markdown",
   "metadata": {},
   "source": [
    "### Go"
   ]
  },
  {
   "cell_type": "code",
   "execution_count": null,
   "metadata": {},
   "outputs": [],
   "source": [
    "!pip install ./cytokinin"
   ]
  },
  {
   "cell_type": "code",
   "execution_count": null,
   "metadata": {},
   "outputs": [],
   "source": [
    "import os\n",
    "import json\n",
    "import numpy as np\n",
    "import pandas as pd"
   ]
  },
  {
   "cell_type": "code",
   "execution_count": null,
   "metadata": {},
   "outputs": [],
   "source": [
    "import cytokine as ck"
   ]
  },
  {
   "cell_type": "code",
   "execution_count": null,
   "metadata": {},
   "outputs": [],
   "source": [
    "IMGS = './cytokinin/cytokine/tests/mocks/imgs/'\n",
    "\n",
    "flist = []\n",
    "for root, dirs, files in os.walk(IMGS, topdown=False):\n",
    "    for f in files:\n",
    "        flist.append(os.path.join(root, f))\n"
   ]
  },
  {
   "cell_type": "code",
   "execution_count": null,
   "metadata": {},
   "outputs": [],
   "source": [
    "from cytokine.data import take_data\n",
    "\n",
    "# if a: del a\n",
    "a = take_data('images')\n",
    "# a.take_data('images')"
   ]
  },
  {
   "cell_type": "markdown",
   "metadata": {},
   "source": [
    "From list"
   ]
  },
  {
   "cell_type": "code",
   "execution_count": null,
   "metadata": {},
   "outputs": [],
   "source": [
    "a.filesnames"
   ]
  },
  {
   "cell_type": "code",
   "execution_count": null,
   "metadata": {},
   "outputs": [],
   "source": [
    "a.store_filesnames_from_list(flist)"
   ]
  },
  {
   "cell_type": "code",
   "execution_count": null,
   "metadata": {},
   "outputs": [],
   "source": [
    "a.filesnames[2]"
   ]
  },
  {
   "cell_type": "markdown",
   "metadata": {},
   "source": [
    "From DataFrame"
   ]
  },
  {
   "cell_type": "code",
   "execution_count": null,
   "metadata": {},
   "outputs": [],
   "source": [
    "df = pd.DataFrame({'files': flist})"
   ]
  },
  {
   "cell_type": "code",
   "execution_count": null,
   "metadata": {},
   "outputs": [],
   "source": [
    "b = take_data('images')\n",
    "b.store_filesnames_from_df(df, 'files') #hold uniques"
   ]
  },
  {
   "cell_type": "markdown",
   "metadata": {},
   "source": [
    "From folder"
   ]
  },
  {
   "cell_type": "code",
   "execution_count": null,
   "metadata": {},
   "outputs": [],
   "source": [
    "b = take_data('images').store_filesnames_from_folder(IMGS + 'dog')\n",
    "b.filesnames.head()"
   ]
  },
  {
   "cell_type": "markdown",
   "metadata": {},
   "source": []
  },
  {
   "cell_type": "markdown",
   "metadata": {},
   "source": [
    "Print"
   ]
  },
  {
   "cell_type": "code",
   "execution_count": null,
   "metadata": {},
   "outputs": [],
   "source": [
    "print(b)"
   ]
  },
  {
   "cell_type": "code",
   "execution_count": null,
   "metadata": {},
   "outputs": [],
   "source": [
    "b.filesnames.head()"
   ]
  },
  {
   "cell_type": "markdown",
   "metadata": {},
   "source": [
    "To"
   ]
  },
  {
   "cell_type": "code",
   "execution_count": null,
   "metadata": {},
   "outputs": [],
   "source": [
    "b.to('arrays')[:10]"
   ]
  },
  {
   "cell_type": "markdown",
   "metadata": {},
   "source": [
    "add_from_data"
   ]
  },
  {
   "cell_type": "code",
   "execution_count": null,
   "metadata": {},
   "outputs": [],
   "source": [
    "dwell = take_data('images').store_filesnames_from_list(flist[:10])\n",
    "print(dwell)"
   ]
  },
  {
   "cell_type": "code",
   "execution_count": null,
   "metadata": {},
   "outputs": [],
   "source": [
    "a2 = take_data('images').store_filesnames_from_list(flist[5:20])\n",
    "print(a2)"
   ]
  },
  {
   "cell_type": "code",
   "execution_count": null,
   "metadata": {},
   "outputs": [],
   "source": [
    "dwell.add_from_data(a2)\n",
    "print(dwell)"
   ]
  },
  {
   "cell_type": "markdown",
   "metadata": {},
   "source": [
    "expel_to"
   ]
  },
  {
   "cell_type": "markdown",
   "metadata": {},
   "source": [
    "### Expell"
   ]
  },
  {
   "cell_type": "code",
   "execution_count": null,
   "metadata": {},
   "outputs": [],
   "source": [
    "c = take_data('images').store_filesnames_from_folder(IMGS + 'dog')\n",
    "c.filesnames.head()"
   ]
  },
  {
   "cell_type": "code",
   "execution_count": null,
   "metadata": {},
   "outputs": [],
   "source": [
    "# path = './cytokine/tests/mocks/imgs/bin/'\n",
    "# inthisnewfolder = 'new_images'\n",
    "# namefilesas = None\n",
    "# c.expell_to(path, inthisnewfolder, namefilesas)"
   ]
  },
  {
   "cell_type": "markdown",
   "metadata": {},
   "source": [
    "expell_to: namefilesas 'data'"
   ]
  },
  {
   "cell_type": "code",
   "execution_count": null,
   "metadata": {},
   "outputs": [],
   "source": [
    "# path = './cytokine/tests/mocks/imgs/bin/'\n",
    "# inthisnewfolder = 'new_images2'\n",
    "# namefilesas = 'data'\n",
    "# c.expell_to(path, inthisnewfolder, namefilesas)"
   ]
  },
  {
   "cell_type": "markdown",
   "metadata": {},
   "source": [
    "expell_to: namefilesas 'folder'"
   ]
  },
  {
   "cell_type": "code",
   "execution_count": null,
   "metadata": {},
   "outputs": [],
   "source": [
    "# path = './cytokine/tests/mocks/imgs/bin/'\n",
    "# inthisnewfolder = 'new_images3'\n",
    "# namefilesas = 'folder'\n",
    "# c.expell_to(path, inthisnewfolder, namefilesas)"
   ]
  },
  {
   "cell_type": "markdown",
   "metadata": {},
   "source": [
    "_____"
   ]
  },
  {
   "cell_type": "markdown",
   "metadata": {},
   "source": [
    "## Export"
   ]
  },
  {
   "cell_type": "markdown",
   "metadata": {},
   "source": [
    "#### to Keras ImageDataGenerator"
   ]
  },
  {
   "cell_type": "code",
   "execution_count": null,
   "metadata": {},
   "outputs": [],
   "source": [
    "ke_gen = c.export_to_keras(labels2cat=False)"
   ]
  },
  {
   "cell_type": "markdown",
   "metadata": {},
   "source": [
    "it also accepts arguments"
   ]
  },
  {
   "cell_type": "code",
   "execution_count": null,
   "metadata": {},
   "outputs": [],
   "source": [
    "idg = {\n",
    "    'rescale': 1./255,\n",
    "    'shear_range': 0.2,\n",
    "    'zoom_range': 0.2,\n",
    "    'horizontal_flip': True\n",
    "}\n",
    "ke_gen = c.export_to_keras(imagedatagenerator_args=idg)"
   ]
  },
  {
   "cell_type": "code",
   "execution_count": null,
   "metadata": {},
   "outputs": [],
   "source": [
    "type(ke_gen)"
   ]
  },
  {
   "cell_type": "code",
   "execution_count": null,
   "metadata": {},
   "outputs": [],
   "source": [
    "# c.filesnames_to_ml_df(labels2cat=True)"
   ]
  },
  {
   "cell_type": "code",
   "execution_count": null,
   "metadata": {
    "scrolled": true
   },
   "outputs": [],
   "source": [
    "#### Fit a Keras model ####\n",
    "\n",
    "# from tensorflow.keras.models import Sequential\n",
    "# from tensorflow.keras.layers import Dense, Dropout, Activation, Flatten, Conv2D, MaxPooling2D\n",
    "# from tensorflow.keras.optimizers import SGD, Adam\n",
    "# from tensorflow.keras.utils import to_categorical\n",
    "\n",
    "# n_classes = 1\n",
    "\n",
    "# ### Model definition ###\n",
    "# model = Sequential()\n",
    "# model.add( Dense(100, activation='relu', input_shape=(256,256,3)) )\n",
    "# model.add( Dense(60, activation='relu') )\n",
    "# model.add( Dense(10, activation='softmax') )\n",
    "# model.add( Flatten() )\n",
    "# model.add( Dense(n_classes) )\n",
    "\n",
    "# ### Compile ###\n",
    "# sgd = SGD(lr=1e-4, decay=1e-6, momentum=0.9, nesterov=True)\n",
    "# model.compile(loss='categorical_crossentropy', optimizer=sgd, metrics=['accuracy'])\n",
    "# imsize = (64,64)\n",
    "\n",
    "# ### Fit ###\n",
    "# model.fit_generator(\n",
    "#         ke_gen,\n",
    "#         #steps_per_epoch=20,\n",
    "#         epochs=3,\n",
    "#         #validation_data=validation_generator,\n",
    "#         validation_steps=1)"
   ]
  },
  {
   "cell_type": "markdown",
   "metadata": {},
   "source": [
    "#### to FastAI"
   ]
  },
  {
   "cell_type": "code",
   "execution_count": null,
   "metadata": {},
   "outputs": [],
   "source": [
    "c.length()"
   ]
  },
  {
   "cell_type": "code",
   "execution_count": null,
   "metadata": {},
   "outputs": [],
   "source": [
    "c.filesnames_to_ml_df().head()"
   ]
  },
  {
   "cell_type": "code",
   "execution_count": null,
   "metadata": {},
   "outputs": [],
   "source": [
    "from fastai.vision import ImageDataBunch,ImageList\n",
    "from fastai.vision.transform import get_transforms\n",
    "# https://docs.fast.ai/vision.data.html#ImageDataBunch.from_df\n",
    "# fastai_gen = ImageDataBunch.from_df(path, df, ds_tfms=tfms, size=24)\n",
    "tfms_arg = get_transforms() # https://docs.fast.ai/vision.transform.html\n",
    "idb_args = {\n",
    "    'ds_tfms': tfms_arg,\n",
    "    'valid_pct': 0,\n",
    "    'bs': 40,\n",
    "#     'label_col': None, #label column\n",
    "}\n",
    "#fastai_idb = ImageDataBunch.from_df(path='',df=c.filesnames_to_ml_df(), valid_pct=0, bs=40)\n",
    "\n",
    "\n",
    "fastai_idb = a.export_to_fastAI(imagedatabunch_args=idb_args)\n",
    "fastai_idb"
   ]
  },
  {
   "cell_type": "code",
   "execution_count": null,
   "metadata": {},
   "outputs": [],
   "source": [
    "type(fastai_idb)"
   ]
  },
  {
   "cell_type": "code",
   "execution_count": null,
   "metadata": {},
   "outputs": [],
   "source": [
    "fastai_idb.open( fastai_idb.items[1] )"
   ]
  },
  {
   "cell_type": "markdown",
   "metadata": {},
   "source": [
    "#### to Pytorch"
   ]
  },
  {
   "cell_type": "code",
   "execution_count": null,
   "metadata": {},
   "outputs": [],
   "source": [
    "#https://stanford.edu/~shervine/blog/pytorch-how-to-generate-data-parallel"
   ]
  },
  {
   "cell_type": "code",
   "execution_count": null,
   "metadata": {},
   "outputs": [],
   "source": [
    "doggo = './cytokine/tests/mocks/imgs/dog'\n",
    "\n",
    "splitta = lambda x: os.path.split(x)[0]\n",
    "paths = list(set(c.filesnames.apply(splitta)))\n",
    "paths\n",
    "# iml1 = ImageList.from_df(doggo);\n",
    "# iml1"
   ]
  },
  {
   "cell_type": "code",
   "execution_count": null,
   "metadata": {},
   "outputs": [],
   "source": [
    "c.filesnames.apply(splitta)"
   ]
  },
  {
   "cell_type": "code",
   "execution_count": null,
   "metadata": {},
   "outputs": [],
   "source": [
    "a = pd.DataFrame()\n",
    "a['c1'] = c.filesnames\n",
    "a['c2'] = c.filesnames\n",
    "a.head()"
   ]
  },
  {
   "cell_type": "code",
   "execution_count": null,
   "metadata": {},
   "outputs": [],
   "source": []
  }
 ],
 "metadata": {
  "kernelspec": {
   "display_name": "Python 3",
   "language": "python",
   "name": "python3"
  },
  "language_info": {
   "codemirror_mode": {
    "name": "ipython",
    "version": 3
   },
   "file_extension": ".py",
   "mimetype": "text/x-python",
   "name": "python",
   "nbconvert_exporter": "python",
   "pygments_lexer": "ipython3",
   "version": "3.7.5"
  }
 },
 "nbformat": 4,
 "nbformat_minor": 2
}
